{
 "cells": [
  {
   "cell_type": "code",
   "execution_count": 5,
   "metadata": {},
   "outputs": [],
   "source": [
    "import pandas as pd\n",
    "from pathlib import Path\n",
    "import numpy as np\n",
    "from datetime import datetime\n",
    "import equipment\n",
    "from tqdm import tqdm\n",
    "import matplotlib.pyplot as plt"
   ]
  },
  {
   "cell_type": "code",
   "execution_count": 2,
   "metadata": {},
   "outputs": [],
   "source": [
    "pv_panels_kwargs = {\n",
    "    'pv_capacity': 12000,\n",
    "    'unit_nominal_power': 250,\n",
    "    'panel_unit_area': 1.26084,\n",
    "    'panel_efficiency': 0.25\n",
    "}\n",
    "pv_panel = equipment.PvArray(**pv_panels_kwargs)\n",
    "# Electrolyzer definition\n",
    "electrolyzer_kwargs = {\n",
    "    'electrical_consumption': 4_800,  # Wh/Nm3\n",
    "    'PE_efficiency': 0.98,  # %\n",
    "    'installed_capacity': 50_000,\n",
    "    'unit_capacity': 2_400,  # W\n",
    "    'temp_out': 50,  # ºC\n",
    "    'p_out': 50,  # bar\n",
    "    'number_electrolyzer': 20,\n",
    "    'water_consumption': 0.4  # L/h\n",
    "}\n",
    "electrolyzer = equipment.Electrolyzer(**electrolyzer_kwargs)\n",
    "# Compressor definition\n",
    "compressor_kwargs = {\n",
    "    'max_flow': 20,  # kg/day\n",
    "    'max_power_consumption': 4_000,\n",
    "    'avg_consumption': 6,  # kWh/kg\n",
    "    'ip_efficiency': 0.8,\n",
    "    'm_efficiency': 0.98,\n",
    "    'e_efficiency': 0.96\n",
    "}\n",
    "compressor = equipment.Compressor(**compressor_kwargs)\n",
    "# Fuel Cell definition\n",
    "fuel_cell_kwargs = {\n",
    "    'fuel_consumption': 0.066,  # g/Wh\n",
    "    'FC_efficiency': 1  # Not implemented yet.\n",
    "}\n",
    "fuel_cell = equipment.FuelCell(**fuel_cell_kwargs)\n",
    "tank_kwargs = {\n",
    "    'p_min': 40,  # bar\n",
    "    'p_max': 400,  # bar\n",
    "    'm_max': 36  # kg -> this one changes in the second year!\n",
    "}"
   ]
  },
  {
   "cell_type": "code",
   "execution_count": null,
   "metadata": {},
   "outputs": [],
   "source": []
  },
  {
   "cell_type": "code",
   "execution_count": 3,
   "metadata": {},
   "outputs": [],
   "source": [
    "DATA_PATH = Path.cwd()/'data'\n",
    "df_grid_prices = pd.read_csv(DATA_PATH / 'grid_tariffs/grid_tariffs.csv')\n",
    "df_full_irradiation = pd.read_csv(DATA_PATH / 'solar_avg.csv')\n",
    "df_electrical_load = pd.read_csv(DATA_PATH / 'load_data.csv')\n",
    "df_hydrogen_load = pd.read_csv(DATA_PATH / 'hydrogen_load_data.csv')\n",
    "df_GHI = df_full_irradiation[['Day', 'Month', 'Hour end', 'GHI [Wh/m2]']]\n",
    "df_main = df_GHI.join(df_electrical_load['Load [Wh]'])\n",
    "df_main = df_main.join(df_hydrogen_load['H2_load [kg]'])\n",
    "df_main['PV_Gen Wh'] = pv_panel.power_production(df_main['GHI [Wh/m2]'])"
   ]
  },
  {
   "cell_type": "code",
   "execution_count": 6,
   "metadata": {},
   "outputs": [
    {
     "ename": "ValueError",
     "evalue": "too many values to unpack (expected 2)",
     "output_type": "error",
     "traceback": [
      "\u001b[1;31m---------------------------------------------------------------------------\u001b[0m",
      "\u001b[1;31mValueError\u001b[0m                                Traceback (most recent call last)",
      "\u001b[1;32m<ipython-input-6-4f328624aa35>\u001b[0m in \u001b[0;36m<module>\u001b[1;34m\u001b[0m\n\u001b[0;32m     18\u001b[0m \u001b[1;33m\u001b[0m\u001b[0m\n\u001b[0;32m     19\u001b[0m \u001b[1;33m\u001b[0m\u001b[0m\n\u001b[1;32m---> 20\u001b[1;33m \u001b[0mdf_main\u001b[0m\u001b[1;33m[\u001b[0m\u001b[1;34m'time'\u001b[0m\u001b[1;33m]\u001b[0m\u001b[1;33m,\u001b[0m \u001b[0mdf_main\u001b[0m\u001b[1;33m[\u001b[0m\u001b[1;34m'hour'\u001b[0m\u001b[1;33m]\u001b[0m \u001b[1;33m=\u001b[0m \u001b[0mdf_main\u001b[0m\u001b[1;33m.\u001b[0m\u001b[0mapply\u001b[0m\u001b[1;33m(\u001b[0m\u001b[0mcreate_date\u001b[0m\u001b[1;33m,\u001b[0m \u001b[0maxis\u001b[0m\u001b[1;33m=\u001b[0m\u001b[1;36m1\u001b[0m\u001b[1;33m)\u001b[0m\u001b[1;33m\u001b[0m\u001b[1;33m\u001b[0m\u001b[0m\n\u001b[0m\u001b[0;32m     21\u001b[0m \u001b[1;31m# df_main['hour'] = df_main.apply(create_hour, axis=1)\u001b[0m\u001b[1;33m\u001b[0m\u001b[1;33m\u001b[0m\u001b[1;33m\u001b[0m\u001b[0m\n\u001b[0;32m     22\u001b[0m df_main = pd.merge(df_main, df_grid_prices, \n",
      "\u001b[1;31mValueError\u001b[0m: too many values to unpack (expected 2)"
     ]
    }
   ],
   "source": [
    "def create_date(row):\n",
    "    # Maybe not use this now to save calculation space\n",
    "    day = int(row['Day'])\n",
    "    month = int(row['Month'])\n",
    "    time = str(row['Hour end'])\n",
    "    date_str = f'2020-{month:02d}-{day:02d} {time}'\n",
    "    datetime_object = datetime.strptime(date_str, '%Y-%m-%d %H:%M')\n",
    "    return datetime_object, datetime_object\n",
    "\n",
    "def create_hour(row):\n",
    "    # Maybe not use this now to save calculation space\n",
    "    day = int(row['Day'])\n",
    "    month = int(row['Month'])\n",
    "    time = str(row['Hour end'])\n",
    "    date_str = f'2020-{month:02d}-{day:02d} {time}'\n",
    "    datetime_object = datetime.strptime(date_str, '%Y-%m-%d %H:%M')\n",
    "    return datetime_object.hour\n",
    "\n",
    "\n",
    "df_main['time'] = df_main.apply(create_date, axis=1)\n",
    "df_main['hour'] = df_main.apply(create_hour, axis=1)\n",
    "df_main = pd.merge(df_main, df_grid_prices, \n",
    "                     left_on = 'hour', \n",
    "                     right_on = 'hour', \n",
    "                     how='left')\n",
    "df_main.head(100)"
   ]
  },
  {
   "cell_type": "code",
   "execution_count": 5,
   "metadata": {},
   "outputs": [
    {
     "data": {
      "text/plain": [
       "[<matplotlib.lines.Line2D at 0x1b21f26ba00>]"
      ]
     },
     "execution_count": 5,
     "metadata": {},
     "output_type": "execute_result"
    },
    {
     "data": {
      "image/png": "[encoded data removed]",
      "text/plain": [
       "<Figure size 432x288 with 1 Axes>"
      ]
     },
     "metadata": {
      "needs_background": "light"
     },
     "output_type": "display_data"
    }
   ],
   "source": [
    "import matplotlib.pyplot as plt\n",
    "df_main\n",
    "plt.plot(df_main['tariff'])\n"
   ]
  },
  {
   "cell_type": "code",
   "execution_count": 7,
   "metadata": {},
   "outputs": [
    {
     "data": {
      "image/png": "[encoded data removed]",
      "text/plain": [
       "<Figure size 432x288 with 1 Axes>"
      ]
     },
     "metadata": {
      "needs_background": "light"
     },
     "output_type": "display_data"
    }
   ],
   "source": [
    "prices = df_grid_prices['tariff']\n",
    "hour = len(prices)\n",
    "plt.plot(prices)\n",
    "plt.show()"
   ]
  }
 ],
 "metadata": {
  "kernelspec": {
   "display_name": "Python 3",
   "language": "python",
   "name": "python3"
  },
  "language_info": {
   "codemirror_mode": {
    "name": "ipython",
    "version": 3
   },
   "file_extension": ".py",
   "mimetype": "text/x-python",
   "name": "python",
   "nbconvert_exporter": "python",
   "pygments_lexer": "ipython3",
   "version": "3.8.5"
  }
 },
 "nbformat": 4,
 "nbformat_minor": 4
}
